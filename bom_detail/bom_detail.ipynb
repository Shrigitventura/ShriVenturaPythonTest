{
 "cells": [
  {
   "cell_type": "code",
   "execution_count": 2,
   "metadata": {},
   "outputs": [],
   "source": [
    "#Read the base bom files from jde as dataframes\n",
    "\n",
    "import pandas as pd\n",
    "import os\n",
    "\n",
    "outputfolder = r'C:\\Users\\SPoudel\\OneDrive - Ventura Foods\\Desktop\\Python sample outputs'\n",
    "\n",
    "# Load the Excel file without headers\n",
    "jde_bom_us = pd.read_excel(\n",
    "    \"C:/Users/SPoudel/Ventura Foods/SC Analytics Team - General/Stan Report Files/File Repository/Lookup Datasets/Current Week Dataset/jde_us.xlsx\", \n",
    "    skiprows=2\n",
    ")\n",
    "\n",
    "jde_bom_can = pd.read_excel(\n",
    "    \"C:/Users/SPoudel/Ventura Foods/SC Analytics Team - General/Stan Report Files/File Repository/Lookup Datasets/Current Week Dataset/jde_canada.xlsx\", \n",
    "    skiprows=2\n",
    ")\n",
    "\n",
    "# this completes the horizontals(rows) of data creating needed base Records or Observations\n",
    "jde_bom = pd.concat([jde_bom_us,jde_bom_can],axis=0,join='outer')\n",
    "jde_bom.columns = jde_bom.columns.str.replace(\" \", \"_\", regex=True) #replace spaces and blanks with \"_\"\n",
    "jde_bom = jde_bom.drop(columns=[\"3rd_Item_Number\", \"Extended_Amount\"])\n",
    "\n",
    "jde_bom[\"Campus_SKU\"] = jde_bom[\"Business_Unit\"].astype(str) + \"_\" + jde_bom[\"Parent_Item_Number\"].astype(str) #creating ref by combining Business Unit and Parent Item Number\n",
    "jde_bom[\"Campus_Component\"] = jde_bom[\"Business_Unit\"].astype(str) + \"_\" + jde_bom[\"Component\"].astype(str) #creating component ref by combining business unit and component\n",
    "jde_bom.columns = [\"Campus\",\"Level\",\"Parent_SKU\",\"Parent_SKU_Description\",\"UOM\",\"Component\",\"Component_Description\",\n",
    "                   \"Commodity_Class\",\"UM\",\"Stocking_Type\",\"Percent_Scrap\",\"Quantity_Per\",\"Quantity_w_Scrap\",\"Unit_Cost\",\"Campus_SKU\",\"Campus_Component\"] #Changing column names to appropriate names"
   ]
  },
  {
   "cell_type": "code",
   "execution_count": 56,
   "metadata": {},
   "outputs": [
    {
     "name": "stderr",
     "output_type": "stream",
     "text": [
      "c:\\Anaconda_Distribution\\Lib\\site-packages\\openpyxl\\styles\\stylesheet.py:226: UserWarning: Workbook contains no default style, apply openpyxl's default\n",
      "  warn(\"Workbook contains no default style, apply openpyxl's default\")\n",
      "C:\\Users\\SPoudel\\AppData\\Local\\Temp\\ipykernel_27036\\2564013234.py:5: FutureWarning: A value is trying to be set on a copy of a DataFrame or Series through chained assignment using an inplace method.\n",
      "The behavior will change in pandas 3.0. This inplace method will never work because the intermediate object on which we are setting values always behaves as a copy.\n",
      "\n",
      "For example, when doing 'df[col].method(value, inplace=True)', try using 'df.method({col: value}, inplace=True)' or df[col] = df[col].method(value) instead, to perform the operation inplace on the original object.\n",
      "\n",
      "\n",
      "  custorder28days['Product Label (SKU) Code'].replace(\"-\",\"\",regex=True,inplace=True)\n"
     ]
    }
   ],
   "source": [
    "#Sales Order in next 28 days attribute design with location and item# as key\n",
    "#MODIFICATION: THIS CAN BE MODIFIED WITH NEW DATASET FOR NEXT 28 DAYS OPEN ORDERS AND NO NEED TO GET CANADA OPEN ORDERS\n",
    "custorder28days = pd.read_excel(\n",
    "    \"C:/Users/SPoudel/Ventura Foods/SC Analytics Team - General/Stan Report Files/File Repository/Lookup Datasets/Current Week Dataset/US and CAN OO BT where status _ J.xlsx\",skiprows=2)\n",
    "custorder28days['Product Label (SKU) Code'].replace(\"-\",\"\",regex=True,inplace=True)\n",
    "custorder28days['Location_SKU'] = custorder28days['Location No'].astype(str) + '_' + custorder28days['Product Label (SKU) Code'].astype(str)\n",
    "custorder28days['Campus_SKU'] = custorder28days['Campus No.'].astype(str) + '_' + custorder28days['Product Label (SKU) Code'].astype(str)\n",
    "custorder28days = custorder28days.iloc[1:]\n",
    "#custorder28days.to_excel(os.path.join(outputfolder,\"custord28days.xlsx\"), index=False)"
   ]
  },
  {
   "cell_type": "code",
   "execution_count": 58,
   "metadata": {},
   "outputs": [
    {
     "name": "stderr",
     "output_type": "stream",
     "text": [
      "c:\\Anaconda_Distribution\\Lib\\site-packages\\openpyxl\\styles\\stylesheet.py:226: UserWarning: Workbook contains no default style, apply openpyxl's default\n",
      "  warn(\"Workbook contains no default style, apply openpyxl's default\")\n"
     ]
    }
   ],
   "source": [
    "#Inventory With Hold Status for FG and RM\n",
    "InvWHoldStatus= pd.read_excel(\n",
    "    \"C:/Users/SPoudel/Ventura Foods/SC Analytics Team - General/Stan Report Files/File Repository/Lookup Datasets/Current Week Dataset/InventoryWCampusForBOM_FROMObject.xlsx\",skiprows=2)\n",
    "\n",
    "#InvWHoldStatus.columns = ['Campus','Location','SKU','Item_Type','Hard_Hold','Soft_Hold','Useable']\n",
    "InvWHoldStatus_FG = InvWHoldStatus[InvWHoldStatus['Item_Type'] == 'FG']\n",
    "InvWHoldStatus_RM = InvWHoldStatus[InvWHoldStatus['Item_Type'] == 'COMP']\n",
    "InvWHoldStatus_WIP = InvWHoldStatus[InvWHoldStatus['Item_Type'] == 'WIP']\n"
   ]
  },
  {
   "cell_type": "code",
   "execution_count": 107,
   "metadata": {},
   "outputs": [
    {
     "data": {
      "text/html": [
       "<div>\n",
       "<style scoped>\n",
       "    .dataframe tbody tr th:only-of-type {\n",
       "        vertical-align: middle;\n",
       "    }\n",
       "\n",
       "    .dataframe tbody tr th {\n",
       "        vertical-align: top;\n",
       "    }\n",
       "\n",
       "    .dataframe thead th {\n",
       "        text-align: right;\n",
       "    }\n",
       "</style>\n",
       "<table border=\"1\" class=\"dataframe\">\n",
       "  <thead>\n",
       "    <tr style=\"text-align: right;\">\n",
       "      <th></th>\n",
       "      <th>BP</th>\n",
       "      <th>Item Number</th>\n",
       "      <th>Status</th>\n",
       "      <th>On Hand</th>\n",
       "    </tr>\n",
       "  </thead>\n",
       "  <tbody>\n",
       "    <tr>\n",
       "      <th>7103</th>\n",
       "      <td>25</td>\n",
       "      <td>84416</td>\n",
       "      <td>NaN</td>\n",
       "      <td>5573.8</td>\n",
       "    </tr>\n",
       "    <tr>\n",
       "      <th>7104</th>\n",
       "      <td>25</td>\n",
       "      <td>85610</td>\n",
       "      <td>NaN</td>\n",
       "      <td>18406.9</td>\n",
       "    </tr>\n",
       "    <tr>\n",
       "      <th>7105</th>\n",
       "      <td>25</td>\n",
       "      <td>86083</td>\n",
       "      <td>NaN</td>\n",
       "      <td>13531.2</td>\n",
       "    </tr>\n",
       "    <tr>\n",
       "      <th>7106</th>\n",
       "      <td>25</td>\n",
       "      <td>86388</td>\n",
       "      <td>NaN</td>\n",
       "      <td>5901.4</td>\n",
       "    </tr>\n",
       "    <tr>\n",
       "      <th>7107</th>\n",
       "      <td>25</td>\n",
       "      <td>86888</td>\n",
       "      <td>NaN</td>\n",
       "      <td>36000.0</td>\n",
       "    </tr>\n",
       "    <tr>\n",
       "      <th>...</th>\n",
       "      <td>...</td>\n",
       "      <td>...</td>\n",
       "      <td>...</td>\n",
       "      <td>...</td>\n",
       "    </tr>\n",
       "    <tr>\n",
       "      <th>7577</th>\n",
       "      <td>25</td>\n",
       "      <td>99552</td>\n",
       "      <td>NaN</td>\n",
       "      <td>12530.9</td>\n",
       "    </tr>\n",
       "    <tr>\n",
       "      <th>7578</th>\n",
       "      <td>25</td>\n",
       "      <td>99553</td>\n",
       "      <td>NaN</td>\n",
       "      <td>8845.9</td>\n",
       "    </tr>\n",
       "    <tr>\n",
       "      <th>7579</th>\n",
       "      <td>25</td>\n",
       "      <td>99558</td>\n",
       "      <td>NaN</td>\n",
       "      <td>7586.9</td>\n",
       "    </tr>\n",
       "    <tr>\n",
       "      <th>7580</th>\n",
       "      <td>25</td>\n",
       "      <td>99560</td>\n",
       "      <td>NaN</td>\n",
       "      <td>8000.0</td>\n",
       "    </tr>\n",
       "    <tr>\n",
       "      <th>7581</th>\n",
       "      <td>25</td>\n",
       "      <td>99562</td>\n",
       "      <td>NaN</td>\n",
       "      <td>8000.0</td>\n",
       "    </tr>\n",
       "  </tbody>\n",
       "</table>\n",
       "<p>474 rows × 4 columns</p>\n",
       "</div>"
      ],
      "text/plain": [
       "      BP Item Number Status  On Hand\n",
       "7103  25       84416    NaN   5573.8\n",
       "7104  25       85610    NaN  18406.9\n",
       "7105  25       86083    NaN  13531.2\n",
       "7106  25       86388    NaN   5901.4\n",
       "7107  25       86888    NaN  36000.0\n",
       "...   ..         ...    ...      ...\n",
       "7577  25       99552    NaN  12530.9\n",
       "7578  25       99553    NaN   8845.9\n",
       "7579  25       99558    NaN   7586.9\n",
       "7580  25       99560    NaN   8000.0\n",
       "7581  25       99562    NaN   8000.0\n",
       "\n",
       "[474 rows x 4 columns]"
      ]
     },
     "execution_count": 107,
     "metadata": {},
     "output_type": "execute_result"
    }
   ],
   "source": [
    "LabelInventory25 = InvWHoldStatus= pd.read_excel(\n",
    "    \"C:/Users/SPoudel/Ventura Foods/SC Analytics Team - General/Stan Report Files/File Repository/Lookup Datasets/Current Week Dataset/JDE Inventory Lot Detail.xlsx\",skiprows=6)\n",
    "LabelInventory25 = LabelInventory25[(LabelInventory25['MPF'] == 'LBL') & (LabelInventory25['BP'] == 25)][['BP','Item Number','Status','On Hand']]\n",
    "LabelInventory25"
   ]
  },
  {
   "cell_type": "code",
   "execution_count": null,
   "metadata": {},
   "outputs": [],
   "source": [
    "#reading Lot status Lookup\n",
    "LotStatusCode = pd.read_excel(\n",
    "    \"C:/Users/SPoudel/Ventura Foods/SC Analytics Team - General/Stan Report Files/File Repository/Lookup Datasets/Static_MonthlyLookup Dataset/Lot Status Code.xlsx\")\n",
    "LabelInventory25WHoldStatus =  LabelInventory25.merge(LotStatusCode[['Lot status','Hard/Soft Hold']],how='left',left_on='Status',right_on='Lot status')[['BP','Item Number','On Hand','Hard/Soft Hold']]\n",
    "LabelInventory25WHoldStatus['Hard/Soft Hold'] =LabelInventory25WHoldStatus['Hard/Soft Hold'].fillna('Useable')"
   ]
  },
  {
   "cell_type": "code",
   "execution_count": null,
   "metadata": {},
   "outputs": [
    {
     "name": "stderr",
     "output_type": "stream",
     "text": [
      "c:\\Anaconda_Distribution\\Lib\\site-packages\\openpyxl\\styles\\stylesheet.py:226: UserWarning: Workbook contains no default style, apply openpyxl's default\n",
      "  warn(\"Workbook contains no default style, apply openpyxl's default\")\n"
     ]
    }
   ],
   "source": [
    "from datetime import datetime\n",
    "from dateutil.relativedelta import relativedelta\n",
    "\n",
    "#Forecast Dataset\n",
    "ForecastLatestCopy= pd.read_excel(\n",
    "    \"C:/Users/SPoudel/Ventura Foods/SC Analytics Team - General/Stan Report Files/File Repository/Lookup Datasets/Weekly Dataset/02.11.2025/DSX Forecast Backup - 2025.02.11.xlsx\",skiprows=2)\n",
    "ForecastLatestCopy['Forecast Month Year ID'] = pd.to_datetime(ForecastLatestCopy[\"Forecast Month Year ID\"], format=\"%Y%m\") + pd.offsets.MonthBegin(0)\n",
    "\n",
    "today = pd.to_datetime(\"today\")\n",
    "ForecastLatestCopy['MonthFromCurrent'] = (ForecastLatestCopy['Forecast Month Year ID'].dt.year - today.year)*12 + (ForecastLatestCopy['Forecast Month Year ID'].dt.month - today.month)\n",
    "ForecastLatestCopy['Product Label (SKU) Code'] = ForecastLatestCopy['Product Label (SKU) Code'].str.replace('-','') #change SKU name and without - in middle\n",
    "ForecastLatestCopy['ManufLocationCampus_Item'] = ForecastLatestCopy['Product Manufacturing Location Code'].astype(str) + \"_\" + ForecastLatestCopy['Product Label (SKU) Code'].astype(str) #Create Key (manf. Loc. acts as Campus and SKU) to join with other dataframes\n",
    "#ForecastLatestCopy['Adjusted Forecast Cases'] = ForecastLatestCopy['Adjusted Forecast Cases'].fillna(0)\n",
    "\n",
    "FcstNxt2Mths = ForecastLatestCopy[(ForecastLatestCopy['MonthFromCurrent'] < 2) & (ForecastLatestCopy['MonthFromCurrent'] >= 0)]\n",
    "FcstNext6Months = ForecastLatestCopy[(ForecastLatestCopy['MonthFromCurrent'] < 6) & (ForecastLatestCopy['MonthFromCurrent'] >= 0)]\n",
    "FcstNext12Months = ForecastLatestCopy[(ForecastLatestCopy['MonthFromCurrent'] < 12) & (ForecastLatestCopy['MonthFromCurrent'] >= 0)]\n",
    "\n",
    "FcstNxt2MthsPivot =  FcstNxt2Mths.pivot_table(values='Adjusted Forecast Cases',index='ManufLocationCampus_Item',columns='MonthFromCurrent',aggfunc='sum').reset_index()\n",
    "FcstNxt2MthsPivot.rename(columns={0:'ThisMonthFcst',1:'NextMonthFcst'}, inplace=True)\n",
    "\n",
    "FcstNext6MonthsPivot =  FcstNext6Months.pivot_table(values='Adjusted Forecast Cases',index='ManufLocationCampus_Item',aggfunc='sum').reset_index()\n",
    "FcstNext6MonthsPivot.rename(columns={'Adjusted Forecast Cases':'Next6MonthsFcst'}, inplace=True)\n",
    "FcstCondensed =   FcstNxt2MthsPivot.merge(FcstNext6MonthsPivot,how='outer')"
   ]
  }
 ],
 "metadata": {
  "kernelspec": {
   "display_name": "base",
   "language": "python",
   "name": "python3"
  },
  "language_info": {
   "codemirror_mode": {
    "name": "ipython",
    "version": 3
   },
   "file_extension": ".py",
   "mimetype": "text/x-python",
   "name": "python",
   "nbconvert_exporter": "python",
   "pygments_lexer": "ipython3",
   "version": "3.12.4"
  }
 },
 "nbformat": 4,
 "nbformat_minor": 2
}
