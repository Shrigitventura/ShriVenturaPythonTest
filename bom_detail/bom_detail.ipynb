{
 "cells": [
  {
   "cell_type": "code",
   "execution_count": 52,
   "metadata": {},
   "outputs": [],
   "source": [
    "#Read the base bom files from jde as dataframes\n",
    "\n",
    "import pandas as pd\n",
    "import os\n",
    "outputfolder = r'C:\\Users\\SPoudel\\OneDrive - Ventura Foods\\Desktop\\Python sample outputs'\n",
    "\n",
    "# Load the Excel file without headers\n",
    "jde_bom_us = pd.read_excel(\n",
    "    \"C:/Users/SPoudel/Ventura Foods/SC Analytics Team - General/Stan Report Files/File Repository/Lookup Datasets/Current Week Dataset/jde_us.xlsx\", \n",
    "    skiprows=2\n",
    ")\n",
    "\n",
    "jde_bom_can = pd.read_excel(\n",
    "    \"C:/Users/SPoudel/Ventura Foods/SC Analytics Team - General/Stan Report Files/File Repository/Lookup Datasets/Current Week Dataset/jde_canada.xlsx\", \n",
    "    skiprows=2\n",
    ")\n",
    "\n",
    "# this completes the horizontals(rows) of data creating needed base Records or Observations\n",
    "jde_bom = pd.concat([jde_bom_us,jde_bom_can],axis=0,join='outer')\n",
    "jde_bom.columns = jde_bom.columns.str.replace(\" \", \"_\", regex=True) #replace spaces and blanks with \"_\"\n",
    "jde_bom = jde_bom.drop(columns=[\"3rd_Item_Number\", \"Extended_Amount\"])\n",
    "jde_bom.rename(columns={\"Quantity_w/_Scrap\": \"Quantity_w_Scrap\"}, inplace=True)\n",
    "\n",
    "jde_bom[\"ref\"] = jde_bom[\"Business_Unit\"].astype(str) + \"_\" + jde_bom[\"Parent_Item_Number\"].astype(str) #creating ref by combining Business Unit and Parent Item Number\n",
    "jde_bom[\"comp_ref\"] = jde_bom[\"Business_Unit\"].astype(str) + \"_\" + jde_bom[\"Component\"].astype(str) #creating component ref by combining business unit and component\n",
    "jde_bom.columns = [\"Campus\",\"Level\",\"Parent_SKU\",\"Parent_SKU_Description\",\"UOM\",\"Component\",\"Component_Description\",\n",
    "                   \"Commodity_Class\",\"UM\",\"Stocking_Type\",\"Percent_Scrap\",\"Quantity_Per\",\"Quantity_w_Scrap\",\"Unit_Cost\",\"CampusSKU\",\"CampusComponent\"] #Changing column names to appropriate names"
   ]
  },
  {
   "cell_type": "code",
   "execution_count": 41,
   "metadata": {},
   "outputs": [
    {
     "name": "stderr",
     "output_type": "stream",
     "text": [
      "c:\\Anaconda_Distribution\\Lib\\site-packages\\openpyxl\\styles\\stylesheet.py:226: UserWarning: Workbook contains no default style, apply openpyxl's default\n",
      "  warn(\"Workbook contains no default style, apply openpyxl's default\")\n",
      "C:\\Users\\SPoudel\\AppData\\Local\\Temp\\ipykernel_59792\\3137005632.py:5: FutureWarning: A value is trying to be set on a copy of a DataFrame or Series through chained assignment using an inplace method.\n",
      "The behavior will change in pandas 3.0. This inplace method will never work because the intermediate object on which we are setting values always behaves as a copy.\n",
      "\n",
      "For example, when doing 'df[col].method(value, inplace=True)', try using 'df.method({col: value}, inplace=True)' or df[col] = df[col].method(value) instead, to perform the operation inplace on the original object.\n",
      "\n",
      "\n",
      "  custorder28days['Product Label (SKU) Code'].replace(\"-\",\"\",regex=True,inplace=True)\n"
     ]
    }
   ],
   "source": [
    "#Sales Order in next 28 days attribute design with location and item# as key\n",
    "#MODIFICATION: THIS CAN BE MODIFIED WITH NEW DATASET FOR NEXT 28 DAYS OPEN ORDERS AND NO NEED TO GET CANADA OPEN ORDERS\n",
    "custorder28days = pd.read_excel(\n",
    "    \"C:/Users/SPoudel/Ventura Foods/SC Analytics Team - General/Stan Report Files/File Repository/Lookup Datasets/Current Week Dataset/US and CAN OO BT where status _ J.xlsx\")\n",
    "custorder28days['Product Label (SKU) Code'].replace(\"-\",\"\",regex=True,inplace=True)\n",
    "custorder28days['locsku'] = custorder28days['Location No'].astype(str) + '_' + custorder28days['Product Label (SKU) Code'].astype(str)\n",
    "custorder28days['campussku'] = custorder28days['Campus No.'].astype(str) + '_' + custorder28days['Product Label (SKU) Code'].astype(str)\n",
    "#custorder28days.to_excel(os.path.join(outputfolder,\"custord28days.xlsx\"), index=False)"
   ]
  },
  {
   "cell_type": "code",
   "execution_count": 46,
   "metadata": {},
   "outputs": [
    {
     "name": "stderr",
     "output_type": "stream",
     "text": [
      "c:\\Anaconda_Distribution\\Lib\\site-packages\\openpyxl\\styles\\stylesheet.py:226: UserWarning: Workbook contains no default style, apply openpyxl's default\n",
      "  warn(\"Workbook contains no default style, apply openpyxl's default\")\n"
     ]
    }
   ],
   "source": [
    "#Inventory With Hold Status for FG and RM\n",
    "InvWHoldStatus= pd.read_excel(\n",
    "    \"C:/Users/SPoudel/Ventura Foods/SC Analytics Team - General/Stan Report Files/File Repository/Lookup Datasets/Current Week Dataset/InventoryWCampusForBOM_FROMObject.xlsx\",skiprows=2)"
   ]
  }
 ],
 "metadata": {
  "kernelspec": {
   "display_name": "base",
   "language": "python",
   "name": "python3"
  },
  "language_info": {
   "codemirror_mode": {
    "name": "ipython",
    "version": 3
   },
   "file_extension": ".py",
   "mimetype": "text/x-python",
   "name": "python",
   "nbconvert_exporter": "python",
   "pygments_lexer": "ipython3",
   "version": "3.12.4"
  }
 },
 "nbformat": 4,
 "nbformat_minor": 2
}
